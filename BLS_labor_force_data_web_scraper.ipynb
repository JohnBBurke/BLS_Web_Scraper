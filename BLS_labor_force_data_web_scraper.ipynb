r{
 "cells": [
  {
   "cell_type": "code",
   "execution_count": 2,
   "metadata": {
    "collapsed": true
   },
   "outputs": [],
   "source": [
    "import requests\n",
    "from bs4 import BeautifulSoup as bs\n",
    "import pandas as pd\n",
    "from pandas import ExcelWriter"
   ]
  },
  {
   "cell_type": "code",
   "execution_count": 3,
   "metadata": {
    "collapsed": false
   },
   "outputs": [],
   "source": [
    "url = 'https://www.bls.gov/web/laus/ststdsadata.txt'\n",
    "r = requests.get(url)\n",
    "\n",
    "# split string in doc with newline delimiter\n",
    "ststdsadata = r.content.split('\\n')\n",
    "columns = ststdsadata[:15]\n",
    "state = ststdsadata[16:] \n",
    "\n",
    "# hard coded these column names because the link was so poorly formatted and not fit fot scraping\n",
    "columns = ['State', 'Civilian Non-institutional Pop', 'Civilian Labor Force Total', \n",
    "           'Civ Labor Force % of Pop', 'Employed Total', 'Employed % of Pop',\n",
    "           'Unemployed Total', 'Unemployed % of Labor Force', 'Period']\n",
    "\n",
    "# split each row into a string and add to a list\n",
    "n = 0\n",
    "placeholder = ''\n",
    "statedata = []\n",
    "for i in state:\n",
    "    row = i.split()\n",
    "    if row and len(row) == 2:\n",
    "        placeholder = ' '.join(row) # join to get all words / data in a state\n",
    "    row.append(placeholder)\n",
    "    statedata.append(row)\n",
    "\n",
    "# return rows with only 10 or more items\n",
    "statedata = filter(lambda x: len(x) >= 10, statedata)    \n",
    "\n",
    "# states with more than one word in the title, like New Hampshire, must have all words in state\n",
    "# title joined to align data columns\n",
    "for i in statedata:\n",
    "    if i and len(i) == 12:\n",
    "        i[0:3] = [' '.join(i[0:3])]\n",
    "    if i and len(i) == 11:\n",
    "        i[0:2] = [' '.join(i[0:2])]    \n",
    "        \n",
    "        \n",
    "# put results into a pandas dataframe\n",
    "df = pd.DataFrame(statedata)\n",
    "df.drop([1],inplace=True,axis=1) \n",
    "\n",
    "df.columns = columns\n",
    "\n",
    "# the existing period column contains the month and year string. Those items must be split so\n",
    "# that the data can be organized by date. The existing period column is then dropped.\n",
    "df['Month'], df['Year'] = zip(*df['Period'].apply(lambda x: x.split(' ')))\n",
    "df.drop(['Period'],inplace=True,axis=1)\n",
    "\n",
    "# assign numerical order to the string for each month. This allows the month to be sorted in corect order.\n",
    "df.loc[df['Month'] == \"January\", 'Order'] = 1\n",
    "df.loc[df['Month'] == \"February\", 'Order'] = 2\n",
    "df.loc[df['Month'] == \"March\", 'Order'] = 3\n",
    "df.loc[df['Month'] == \"April\", 'Order'] = 4\n",
    "df.loc[df['Month'] == \"May\", 'Order'] = 5\n",
    "df.loc[df['Month'] == \"June\", 'Order'] = 6\n",
    "df.loc[df['Month'] == \"July\", 'Order'] = 7\n",
    "df.loc[df['Month'] == \"August\", 'Order'] = 8\n",
    "df.loc[df['Month'] == \"September\", 'Order'] = 9\n",
    "df.loc[df['Month'] == \"October\", 'Order'] = 10\n",
    "df.loc[df['Month'] == \"November\", 'Order'] = 11\n",
    "df.loc[df['Month'] == \"December\", 'Order'] = 12\n",
    "\n",
    "df.sort_index(by=['Year', 'Order'], ascending=[True, True])\n",
    "\n",
    "df.apply(pd.to_numeric, errors='ignore')"
   ]
  },
  {
   "cell_type": "code",
   "execution_count": 5,
   "metadata": {
    "collapsed": false
   },
   "outputs": [],
   "source": [
    "# create dataframe for each series\n",
    "df_1 = df[['Month', 'Year', 'Order', 'State', 'Civilian Non-institutional Pop']]\n",
    "df_1 = df_1.pivot_table('Civilian Non-institutional Pop', ['State'], ['Year', 'Order', 'Month'], aggfunc='first')\n",
    "\n",
    "df_2 = df[['Month', 'Year', 'Order', 'State', 'Civilian Labor Force Total']]\n",
    "df_2 = df_2.pivot_table('Civilian Labor Force Total', ['State'], ['Year', 'Order', 'Month'], aggfunc='first')\n",
    "\n",
    "df_3 = df[['Month', 'Year', 'Order', 'State', 'Civ Labor Force % of Pop']]\n",
    "df_3 = df_3.pivot_table('Civ Labor Force % of Pop', ['State'], ['Year', 'Order', 'Month'], aggfunc='first')\n",
    "\n",
    "df_4 = df[['Month', 'Year', 'Order', 'State', 'Employed Total']]\n",
    "df_4 = df_4.pivot_table('Employed Total', ['State'], ['Year', 'Order', 'Month'], aggfunc='first')\n",
    "\n",
    "df_5 = df[['Month', 'Year', 'Order', 'State', 'Employed % of Pop']]\n",
    "df_5 = df_5.pivot_table('Employed % of Pop', ['State'], ['Year', 'Order', 'Month'], aggfunc='first')\n",
    "\n",
    "df_6 = df[['Month', 'Year', 'Order', 'State', 'Unemployed Total']]\n",
    "df_6 = df_6.pivot_table('Unemployed Total', ['State'], ['Year', 'Order', 'Month'], aggfunc='first')\n",
    "\n",
    "df_7 = df[['Month', 'Year', 'Order', 'State', 'Unemployed % of Labor Force']]\n",
    "df_7 = df_7.pivot_table('Unemployed % of Labor Force', ['State'], ['Year', 'Order', 'Month'], aggfunc='first')"
   ]
  },
  {
   "cell_type": "code",
   "execution_count": 12,
   "metadata": {
    "collapsed": false
   },
   "outputs": [],
   "source": [
    "# write output to Excel with each series on a unique tab\n",
    "writer = ExcelWriter('/Users/JohnBurke/Desktop/BLS.xlsx')\n",
    "\n",
    "df_1.to_excel(writer, 'Civilian Non-institutional Pop')\n",
    "df_2.to_excel(writer, 'Civilian Labor Force Total')\n",
    "df_3.to_excel(writer, 'Civ Labor Force % of Pop')\n",
    "df_4.to_excel(writer, 'Employed Total')\n",
    "df_5.to_excel(writer, 'Employed % of Pop')\n",
    "df_6.to_excel(writer, 'Unemployed Total')\n",
    "df_7.to_excel(writer, 'Unemployed % of Labor Force')\n",
    "\n",
    "writer.save()"
   ]
  },
  {
   "cell_type": "code",
   "execution_count": null,
   "metadata": {
    "collapsed": false
   },
   "outputs": [],
   "source": []
  },
  {
   "cell_type": "code",
   "execution_count": null,
   "metadata": {
    "collapsed": true
   },
   "outputs": [],
   "source": []
  }
 ],
 "metadata": {
  "anaconda-cloud": {},
  "kernelspec": {
   "display_name": "Python 2",
   "language": "python",
   "name": "python2"
  },
  "language_info": {
   "codemirror_mode": {
    "name": "ipython",
    "version": 2
   },
   "file_extension": ".py",
   "mimetype": "text/x-python",
   "name": "python",
   "nbconvert_exporter": "python",
   "pygments_lexer": "ipython2",
   "version": "2.7.12"
  }
 },
 "nbformat": 4,
 "nbformat_minor": 1
}
